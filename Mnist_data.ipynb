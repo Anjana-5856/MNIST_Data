{
  "nbformat": 4,
  "nbformat_minor": 0,
  "metadata": {
    "colab": {
      "name": "Mnist_data.ipynb",
      "provenance": [],
      "collapsed_sections": []
    },
    "kernelspec": {
      "name": "python3",
      "display_name": "Python 3"
    },
    "language_info": {
      "name": "python"
    }
  },
  "cells": [
    {
      "cell_type": "markdown",
      "metadata": {
        "id": "FwLK6XK3k_c9"
      },
      "source": [
        "**Loading** **Dataset**"
      ]
    },
    {
      "cell_type": "code",
      "metadata": {
        "colab": {
          "base_uri": "https://localhost:8080/",
          "height": 302
        },
        "id": "gKZAPNRAk5FK",
        "outputId": "db951b8b-80fc-4266-b134-e6a86220aa2e"
      },
      "source": [
        "# example of loading the mnist dataset\n",
        "from keras.datasets import mnist\n",
        "from matplotlib import pyplot\n",
        "# load dataset\n",
        "(x_train, y_train), (x_test, y_test) = mnist.load_data()\n",
        "# summarize loaded dataset\n",
        "print('Train: X=%s, y=%s' % (x_train.shape, y_train.shape))\n",
        "print('Test: X=%s, y=%s' % (x_test.shape, y_test.shape))\n",
        "# plot first few images\n",
        "for i in range(9):\n",
        "\t# define subplot\n",
        "\tpyplot.subplot(330 + 1 + i)\n",
        "\t# plot raw pixel data\n",
        "\tpyplot.imshow(x_train[i], cmap=pyplot.get_cmap('gray'))\n",
        "# show the figure\n",
        "pyplot.show()"
      ],
      "execution_count": 2,
      "outputs": [
        {
          "output_type": "stream",
          "text": [
            "Train: X=(60000, 28, 28), y=(60000,)\n",
            "Test: X=(10000, 28, 28), y=(10000,)\n"
          ],
          "name": "stdout"
        },
        {
          "output_type": "display_data",
          "data": {
            "image/png": "[encoded data removed]",
            "text/plain": [
              "<Figure size 432x288 with 9 Axes>"
            ]
          },
          "metadata": {
            "tags": [],
            "needs_background": "light"
          }
        }
      ]
    },
    {
      "cell_type": "markdown",
      "metadata": {
        "id": "iRlCp7TOlPNN"
      },
      "source": [
        "**Prepare** **Pixel** **Data**"
      ]
    },
    {
      "cell_type": "code",
      "metadata": {
        "id": "i-am9jYzQ5ZN"
      },
      "source": [
        "import matplotlib.pyplot as plt\n",
        "import keras\n",
        "\n",
        "\n",
        "num_classes = 10\n",
        "# reshape dataset to have a single channel\n",
        "x_train = x_train.reshape(60000, 784)\n",
        "x_test = x_test.reshape(10000, 784)\n",
        "# convert from integers to floats\n",
        "x_train = x_train.astype('float32')\n",
        "x_test = x_test.astype('float32')\n"
      ],
      "execution_count": 3,
      "outputs": []
    },
    {
      "cell_type": "code",
      "metadata": {
        "colab": {
          "base_uri": "https://localhost:8080/"
        },
        "id": "wpFOjC8xInZf",
        "outputId": "f1b39b26-d60e-4cbb-c1ce-a0d4c06f9ae9"
      },
      "source": [
        "# normalize to range 0-1\n",
        "x_train /= 255\n",
        "x_test /= 255\n",
        "\n",
        "# one hot encode target values\n",
        "y_train = keras.utils.to_categorical(y_train, num_classes)\n",
        "y_test = keras.utils.to_categorical(y_test, num_classes)\n",
        "\n",
        "\n",
        "print ('Train size:', x_train.shape[0])\n",
        "print ('Test size:', x_test.shape[0])"
      ],
      "execution_count": 4,
      "outputs": [
        {
          "output_type": "stream",
          "text": [
            "Train size: 60000\n",
            "Test size: 10000\n"
          ],
          "name": "stdout"
        }
      ]
    },
    {
      "cell_type": "markdown",
      "metadata": {
        "id": "S6zTqHszlYY2"
      },
      "source": [
        "**Define** **Model**"
      ]
    },
    {
      "cell_type": "code",
      "metadata": {
        "colab": {
          "base_uri": "https://localhost:8080/"
        },
        "id": "UGt3dgNWRE_8",
        "outputId": "8d0c649a-71e4-4b4d-f8cb-17777d5de275"
      },
      "source": [
        "from keras.models import Sequential\n",
        "from keras.layers import Dense, Dropout\n",
        "from keras.optimizers import RMSprop\n",
        "from keras.layers.advanced_activations import LeakyReLU\n",
        "model = Sequential()\n",
        "model.add(Dense(512, activation='relu', input_shape=(784,)))\n",
        "model.add(Dense(num_classes, activation='softmax'))\n",
        "\n",
        "for l in model.layers:\n",
        "    print(l.name, l.input_shape,'==>',l.output_shape)\n",
        "print\n",
        "print(model.summary())"
      ],
      "execution_count": 5,
      "outputs": [
        {
          "output_type": "stream",
          "text": [
            "dense (None, 784) ==> (None, 512)\n",
            "dense_1 (None, 512) ==> (None, 10)\n",
            "Model: \"sequential\"\n",
            "_________________________________________________________________\n",
            "Layer (type)                 Output Shape              Param #   \n",
            "=================================================================\n",
            "dense (Dense)                (None, 512)               401920    \n",
            "_________________________________________________________________\n",
            "dense_1 (Dense)              (None, 10)                5130      \n",
            "=================================================================\n",
            "Total params: 407,050\n",
            "Trainable params: 407,050\n",
            "Non-trainable params: 0\n",
            "_________________________________________________________________\n",
            "None\n"
          ],
          "name": "stdout"
        }
      ]
    },
    {
      "cell_type": "code",
      "metadata": {
        "colab": {
          "base_uri": "https://localhost:8080/"
        },
        "id": "2wUxbS8Odzah",
        "outputId": "0bed40b7-6873-4f78-fe9f-6bcfbfbadfe7"
      },
      "source": [
        "model = Sequential()\n",
        "model.add(Dense(512, input_shape=(784,)))\n",
        "for i in range(5):\n",
        "    model.add(Dense(512))\n",
        "model.add(Dense(10, activation='softmax'))\n",
        "for l in model.layers:\n",
        "    print(l.name, l.input_shape,'==>',l.output_shape)\n",
        "print\n",
        "print (model.summary())"
      ],
      "execution_count": 9,
      "outputs": [
        {
          "output_type": "stream",
          "text": [
            "dense_3 (None, 784) ==> (None, 512)\n",
            "dense_4 (None, 512) ==> (None, 512)\n",
            "dense_5 (None, 512) ==> (None, 512)\n",
            "dense_6 (None, 512) ==> (None, 512)\n",
            "dense_7 (None, 512) ==> (None, 512)\n",
            "dense_8 (None, 512) ==> (None, 512)\n",
            "dense_9 (None, 512) ==> (None, 10)\n",
            "Model: \"sequential_2\"\n",
            "_________________________________________________________________\n",
            "Layer (type)                 Output Shape              Param #   \n",
            "=================================================================\n",
            "dense_3 (Dense)              (None, 512)               401920    \n",
            "_________________________________________________________________\n",
            "dense_4 (Dense)              (None, 512)               262656    \n",
            "_________________________________________________________________\n",
            "dense_5 (Dense)              (None, 512)               262656    \n",
            "_________________________________________________________________\n",
            "dense_6 (Dense)              (None, 512)               262656    \n",
            "_________________________________________________________________\n",
            "dense_7 (Dense)              (None, 512)               262656    \n",
            "_________________________________________________________________\n",
            "dense_8 (Dense)              (None, 512)               262656    \n",
            "_________________________________________________________________\n",
            "dense_9 (Dense)              (None, 10)                5130      \n",
            "=================================================================\n",
            "Total params: 1,720,330\n",
            "Trainable params: 1,720,330\n",
            "Non-trainable params: 0\n",
            "_________________________________________________________________\n",
            "None\n"
          ],
          "name": "stdout"
        }
      ]
    },
    {
      "cell_type": "markdown",
      "metadata": {
        "id": "DqG0fWycl-dn"
      },
      "source": [
        "**Train** **the** **Network**"
      ]
    },
    {
      "cell_type": "code",
      "metadata": {
        "colab": {
          "base_uri": "https://localhost:8080/",
          "height": 516
        },
        "id": "E9RRLelVRPXz",
        "outputId": "2067befc-65c9-490d-a0af-5a2ff1ec277c"
      },
      "source": [
        "batch_size = 128\n",
        "epochs = 5\n",
        "\n",
        "model.compile(loss='categorical_crossentropy',\n",
        "              optimizer=RMSprop(),\n",
        "              metrics=['accuracy'])\n",
        "    \n",
        "history = model.fit(x_train, y_train,\n",
        "                    batch_size=batch_size,\n",
        "                    epochs=epochs,\n",
        "                    verbose=1,\n",
        "                    validation_data=(x_test, y_test))\n",
        "\n",
        "score = model.evaluate(x_test, y_test, verbose=100)\n",
        "\n",
        "print\n",
        "print('Test loss:', round(score[0], 3))\n",
        "print('Test accuracy:', round(score[1], 3))\n",
        "plt.plot(history.history['loss'])\n",
        "plt.plot(history.history['val_loss'])\n",
        "plt.title('model loss')\n",
        "plt.ylabel('loss')\n",
        "plt.xlabel('epoch')\n",
        "plt.legend(['train', 'test'], loc='upper left')"
      ],
      "execution_count": 11,
      "outputs": [
        {
          "output_type": "stream",
          "text": [
            "Epoch 1/5\n",
            "469/469 [==============================] - 20s 41ms/step - loss: 1.9156 - accuracy: 0.6941 - val_loss: 0.5036 - val_accuracy: 0.8553\n",
            "Epoch 2/5\n",
            "469/469 [==============================] - 19s 41ms/step - loss: 0.5754 - accuracy: 0.8298 - val_loss: 0.5273 - val_accuracy: 0.8508\n",
            "Epoch 3/5\n",
            "469/469 [==============================] - 19s 41ms/step - loss: 0.4448 - accuracy: 0.8698 - val_loss: 0.3406 - val_accuracy: 0.9006\n",
            "Epoch 4/5\n",
            "469/469 [==============================] - 19s 41ms/step - loss: 0.4026 - accuracy: 0.8832 - val_loss: 0.3355 - val_accuracy: 0.9072\n",
            "Epoch 5/5\n",
            "469/469 [==============================] - 19s 41ms/step - loss: 0.3720 - accuracy: 0.8922 - val_loss: 0.3803 - val_accuracy: 0.8895\n",
            "Test loss: 0.38\n",
            "Test accuracy: 0.89\n"
          ],
          "name": "stdout"
        },
        {
          "output_type": "execute_result",
          "data": {
            "text/plain": [
              "<matplotlib.legend.Legend at 0x7fb6d9db0050>"
            ]
          },
          "metadata": {
            "tags": []
          },
          "execution_count": 11
        },
        {
          "output_type": "display_data",
          "data": {
            "image/png": "[encoded data removed]",
            "text/plain": [
              "<Figure size 432x288 with 1 Axes>"
            ]
          },
          "metadata": {
            "tags": [],
            "needs_background": "light"
          }
        }
      ]
    },
    {
      "cell_type": "markdown",
      "metadata": {
        "id": "GrKBQ2K1mTMv"
      },
      "source": [
        "**Using** **different** **Activation** **Functions**"
      ]
    },
    {
      "cell_type": "code",
      "metadata": {
        "colab": {
          "base_uri": "https://localhost:8080/",
          "height": 1000
        },
        "id": "LfUKCQEQRjV0",
        "outputId": "77195a68-0e08-493f-c743-85ded48745ae"
      },
      "source": [
        "\n",
        "epochs = 20\n",
        "\n",
        "for activation in [None, 'sigmoid', 'tanh', 'relu']:\n",
        "    model = Sequential()\n",
        "    model.add(Dense(512, activation=activation, input_shape=(784,)))\n",
        "    model.add(Dense(num_classes, activation='softmax'))\n",
        "    model.compile(loss='categorical_crossentropy',\n",
        "              optimizer=RMSprop(),\n",
        "              metrics=['accuracy'])\n",
        "    history = model.fit(x_train, y_train,\n",
        "                    batch_size=batch_size,\n",
        "                    epochs=epochs,\n",
        "                    verbose=1,\n",
        "                    validation_data=(x_test, y_test))\n",
        "    \n",
        "    plt.plot(history.history['val_accuracy'])\n",
        "    \n",
        "plt.title('model loss')\n",
        "plt.ylabel('loss')\n",
        "plt.xlabel('epoch')\n",
        "plt.legend(['None', 'sigmoid', 'tanh', 'relu'], loc='upper left')"
      ],
      "execution_count": 12,
      "outputs": [
        {
          "output_type": "stream",
          "text": [
            "Epoch 1/20\n",
            "469/469 [==============================] - 5s 10ms/step - loss: 0.4998 - accuracy: 0.8517 - val_loss: 0.3273 - val_accuracy: 0.9080\n",
            "Epoch 2/20\n",
            "469/469 [==============================] - 5s 10ms/step - loss: 0.3094 - accuracy: 0.9120 - val_loss: 0.2909 - val_accuracy: 0.9163\n",
            "Epoch 3/20\n",
            "469/469 [==============================] - 5s 10ms/step - loss: 0.2888 - accuracy: 0.9199 - val_loss: 0.3133 - val_accuracy: 0.9100\n",
            "Epoch 4/20\n",
            "469/469 [==============================] - 5s 10ms/step - loss: 0.2798 - accuracy: 0.9215 - val_loss: 0.2990 - val_accuracy: 0.9179\n",
            "Epoch 5/20\n",
            "469/469 [==============================] - 5s 10ms/step - loss: 0.2741 - accuracy: 0.9237 - val_loss: 0.3118 - val_accuracy: 0.9192\n",
            "Epoch 6/20\n",
            "469/469 [==============================] - 5s 10ms/step - loss: 0.2736 - accuracy: 0.9235 - val_loss: 0.3164 - val_accuracy: 0.9111\n",
            "Epoch 7/20\n",
            "469/469 [==============================] - 5s 10ms/step - loss: 0.2781 - accuracy: 0.9238 - val_loss: 0.2946 - val_accuracy: 0.9206\n",
            "Epoch 8/20\n",
            "469/469 [==============================] - 5s 10ms/step - loss: 0.2624 - accuracy: 0.9265 - val_loss: 0.2851 - val_accuracy: 0.9216\n",
            "Epoch 9/20\n",
            "469/469 [==============================] - 5s 10ms/step - loss: 0.2657 - accuracy: 0.9270 - val_loss: 0.2996 - val_accuracy: 0.9190\n",
            "Epoch 10/20\n",
            "469/469 [==============================] - 5s 10ms/step - loss: 0.2689 - accuracy: 0.9252 - val_loss: 0.2970 - val_accuracy: 0.9199\n",
            "Epoch 11/20\n",
            "469/469 [==============================] - 5s 10ms/step - loss: 0.2628 - accuracy: 0.9258 - val_loss: 0.2934 - val_accuracy: 0.9225\n",
            "Epoch 12/20\n",
            "469/469 [==============================] - 5s 10ms/step - loss: 0.2619 - accuracy: 0.9273 - val_loss: 0.2860 - val_accuracy: 0.9221\n",
            "Epoch 13/20\n",
            "469/469 [==============================] - 5s 10ms/step - loss: 0.2629 - accuracy: 0.9269 - val_loss: 0.3013 - val_accuracy: 0.9187\n",
            "Epoch 14/20\n",
            "469/469 [==============================] - 5s 10ms/step - loss: 0.2609 - accuracy: 0.9283 - val_loss: 0.2849 - val_accuracy: 0.9217\n",
            "Epoch 15/20\n",
            "469/469 [==============================] - 5s 10ms/step - loss: 0.2597 - accuracy: 0.9278 - val_loss: 0.2953 - val_accuracy: 0.9226\n",
            "Epoch 16/20\n",
            "469/469 [==============================] - 5s 10ms/step - loss: 0.2624 - accuracy: 0.9275 - val_loss: 0.2896 - val_accuracy: 0.9212\n",
            "Epoch 17/20\n",
            "469/469 [==============================] - 5s 10ms/step - loss: 0.2577 - accuracy: 0.9297 - val_loss: 0.2900 - val_accuracy: 0.9200\n",
            "Epoch 18/20\n",
            "469/469 [==============================] - 5s 10ms/step - loss: 0.2535 - accuracy: 0.9294 - val_loss: 0.2880 - val_accuracy: 0.9211\n",
            "Epoch 19/20\n",
            "469/469 [==============================] - 5s 10ms/step - loss: 0.2586 - accuracy: 0.9279 - val_loss: 0.2867 - val_accuracy: 0.9257\n",
            "Epoch 20/20\n",
            "469/469 [==============================] - 5s 10ms/step - loss: 0.2549 - accuracy: 0.9293 - val_loss: 0.2793 - val_accuracy: 0.9240\n",
            "Epoch 1/20\n",
            "469/469 [==============================] - 5s 10ms/step - loss: 0.6708 - accuracy: 0.8239 - val_loss: 0.2697 - val_accuracy: 0.9204\n",
            "Epoch 2/20\n",
            "469/469 [==============================] - 5s 10ms/step - loss: 0.2472 - accuracy: 0.9279 - val_loss: 0.1942 - val_accuracy: 0.9426\n",
            "Epoch 3/20\n",
            "469/469 [==============================] - 5s 10ms/step - loss: 0.1854 - accuracy: 0.9467 - val_loss: 0.1561 - val_accuracy: 0.9531\n",
            "Epoch 4/20\n",
            "469/469 [==============================] - 5s 10ms/step - loss: 0.1404 - accuracy: 0.9595 - val_loss: 0.1286 - val_accuracy: 0.9607\n",
            "Epoch 5/20\n",
            "469/469 [==============================] - 5s 10ms/step - loss: 0.1149 - accuracy: 0.9664 - val_loss: 0.1110 - val_accuracy: 0.9657\n",
            "Epoch 6/20\n",
            "469/469 [==============================] - 5s 10ms/step - loss: 0.0951 - accuracy: 0.9713 - val_loss: 0.0974 - val_accuracy: 0.9704\n",
            "Epoch 7/20\n",
            "469/469 [==============================] - 5s 10ms/step - loss: 0.0747 - accuracy: 0.9777 - val_loss: 0.0886 - val_accuracy: 0.9725\n",
            "Epoch 8/20\n",
            "469/469 [==============================] - 5s 10ms/step - loss: 0.0665 - accuracy: 0.9807 - val_loss: 0.0818 - val_accuracy: 0.9761\n",
            "Epoch 9/20\n",
            "469/469 [==============================] - 5s 10ms/step - loss: 0.0581 - accuracy: 0.9826 - val_loss: 0.0796 - val_accuracy: 0.9744\n",
            "Epoch 10/20\n",
            "469/469 [==============================] - 5s 10ms/step - loss: 0.0493 - accuracy: 0.9859 - val_loss: 0.0804 - val_accuracy: 0.9764\n",
            "Epoch 11/20\n",
            "469/469 [==============================] - 5s 10ms/step - loss: 0.0437 - accuracy: 0.9871 - val_loss: 0.0708 - val_accuracy: 0.9786\n",
            "Epoch 12/20\n",
            "469/469 [==============================] - 5s 10ms/step - loss: 0.0368 - accuracy: 0.9897 - val_loss: 0.0670 - val_accuracy: 0.9786\n",
            "Epoch 13/20\n",
            "469/469 [==============================] - 5s 10ms/step - loss: 0.0326 - accuracy: 0.9912 - val_loss: 0.0679 - val_accuracy: 0.9794\n",
            "Epoch 14/20\n",
            "469/469 [==============================] - 5s 10ms/step - loss: 0.0283 - accuracy: 0.9923 - val_loss: 0.0624 - val_accuracy: 0.9818\n",
            "Epoch 15/20\n",
            "469/469 [==============================] - 5s 10ms/step - loss: 0.0250 - accuracy: 0.9928 - val_loss: 0.0631 - val_accuracy: 0.9809\n",
            "Epoch 16/20\n",
            "469/469 [==============================] - 5s 10ms/step - loss: 0.0222 - accuracy: 0.9947 - val_loss: 0.0670 - val_accuracy: 0.9787\n",
            "Epoch 17/20\n",
            "469/469 [==============================] - 5s 10ms/step - loss: 0.0185 - accuracy: 0.9956 - val_loss: 0.0625 - val_accuracy: 0.9813\n",
            "Epoch 18/20\n",
            "469/469 [==============================] - 5s 10ms/step - loss: 0.0160 - accuracy: 0.9965 - val_loss: 0.0609 - val_accuracy: 0.9814\n",
            "Epoch 19/20\n",
            "469/469 [==============================] - 5s 10ms/step - loss: 0.0150 - accuracy: 0.9968 - val_loss: 0.0607 - val_accuracy: 0.9826\n",
            "Epoch 20/20\n",
            "469/469 [==============================] - 5s 10ms/step - loss: 0.0124 - accuracy: 0.9973 - val_loss: 0.0645 - val_accuracy: 0.9805\n",
            "Epoch 1/20\n",
            "469/469 [==============================] - 5s 11ms/step - loss: 0.5023 - accuracy: 0.8523 - val_loss: 0.2131 - val_accuracy: 0.9363\n",
            "Epoch 2/20\n",
            "469/469 [==============================] - 5s 10ms/step - loss: 0.2012 - accuracy: 0.9421 - val_loss: 0.1477 - val_accuracy: 0.9588\n",
            "Epoch 3/20\n",
            "469/469 [==============================] - 5s 10ms/step - loss: 0.1284 - accuracy: 0.9623 - val_loss: 0.1095 - val_accuracy: 0.9676\n",
            "Epoch 4/20\n",
            "469/469 [==============================] - 5s 10ms/step - loss: 0.0894 - accuracy: 0.9746 - val_loss: 0.0920 - val_accuracy: 0.9719\n",
            "Epoch 5/20\n",
            "469/469 [==============================] - 5s 10ms/step - loss: 0.0662 - accuracy: 0.9797 - val_loss: 0.0839 - val_accuracy: 0.9745\n",
            "Epoch 6/20\n",
            "469/469 [==============================] - 5s 10ms/step - loss: 0.0519 - accuracy: 0.9844 - val_loss: 0.0714 - val_accuracy: 0.9778\n",
            "Epoch 7/20\n",
            "469/469 [==============================] - 5s 10ms/step - loss: 0.0415 - accuracy: 0.9879 - val_loss: 0.0721 - val_accuracy: 0.9780\n",
            "Epoch 8/20\n",
            "469/469 [==============================] - 5s 10ms/step - loss: 0.0326 - accuracy: 0.9903 - val_loss: 0.0753 - val_accuracy: 0.9760\n",
            "Epoch 9/20\n",
            "469/469 [==============================] - 5s 10ms/step - loss: 0.0247 - accuracy: 0.9930 - val_loss: 0.0646 - val_accuracy: 0.9808\n",
            "Epoch 10/20\n",
            "469/469 [==============================] - 5s 10ms/step - loss: 0.0186 - accuracy: 0.9952 - val_loss: 0.0647 - val_accuracy: 0.9805\n",
            "Epoch 11/20\n",
            "469/469 [==============================] - 5s 10ms/step - loss: 0.0137 - accuracy: 0.9967 - val_loss: 0.0654 - val_accuracy: 0.9803\n",
            "Epoch 12/20\n",
            "469/469 [==============================] - 5s 10ms/step - loss: 0.0116 - accuracy: 0.9973 - val_loss: 0.0675 - val_accuracy: 0.9795\n",
            "Epoch 13/20\n",
            "469/469 [==============================] - 5s 10ms/step - loss: 0.0090 - accuracy: 0.9981 - val_loss: 0.0693 - val_accuracy: 0.9802\n",
            "Epoch 14/20\n",
            "469/469 [==============================] - 5s 10ms/step - loss: 0.0073 - accuracy: 0.9985 - val_loss: 0.0639 - val_accuracy: 0.9811\n",
            "Epoch 15/20\n",
            "469/469 [==============================] - 5s 10ms/step - loss: 0.0058 - accuracy: 0.9986 - val_loss: 0.0704 - val_accuracy: 0.9813\n",
            "Epoch 16/20\n",
            "469/469 [==============================] - 5s 10ms/step - loss: 0.0046 - accuracy: 0.9991 - val_loss: 0.0728 - val_accuracy: 0.9804\n",
            "Epoch 17/20\n",
            "469/469 [==============================] - 5s 10ms/step - loss: 0.0034 - accuracy: 0.9993 - val_loss: 0.0726 - val_accuracy: 0.9812\n",
            "Epoch 18/20\n",
            "469/469 [==============================] - 5s 10ms/step - loss: 0.0026 - accuracy: 0.9993 - val_loss: 0.0701 - val_accuracy: 0.9826\n",
            "Epoch 19/20\n",
            "469/469 [==============================] - 5s 10ms/step - loss: 0.0018 - accuracy: 0.9996 - val_loss: 0.0758 - val_accuracy: 0.9810\n",
            "Epoch 20/20\n",
            "469/469 [==============================] - 5s 10ms/step - loss: 0.0015 - accuracy: 0.9997 - val_loss: 0.0737 - val_accuracy: 0.9825\n",
            "Epoch 1/20\n",
            "469/469 [==============================] - 5s 11ms/step - loss: 0.4281 - accuracy: 0.8764 - val_loss: 0.1365 - val_accuracy: 0.9582\n",
            "Epoch 2/20\n",
            "469/469 [==============================] - 5s 10ms/step - loss: 0.1117 - accuracy: 0.9669 - val_loss: 0.1033 - val_accuracy: 0.9659\n",
            "Epoch 3/20\n",
            "469/469 [==============================] - 5s 10ms/step - loss: 0.0674 - accuracy: 0.9796 - val_loss: 0.0761 - val_accuracy: 0.9761\n",
            "Epoch 4/20\n",
            "469/469 [==============================] - 5s 10ms/step - loss: 0.0498 - accuracy: 0.9852 - val_loss: 0.0738 - val_accuracy: 0.9775\n",
            "Epoch 5/20\n",
            "469/469 [==============================] - 5s 10ms/step - loss: 0.0353 - accuracy: 0.9892 - val_loss: 0.0707 - val_accuracy: 0.9785\n",
            "Epoch 6/20\n",
            "469/469 [==============================] - 5s 10ms/step - loss: 0.0283 - accuracy: 0.9917 - val_loss: 0.0664 - val_accuracy: 0.9806\n",
            "Epoch 7/20\n",
            "469/469 [==============================] - 5s 10ms/step - loss: 0.0193 - accuracy: 0.9943 - val_loss: 0.0689 - val_accuracy: 0.9799\n",
            "Epoch 8/20\n",
            "469/469 [==============================] - 5s 10ms/step - loss: 0.0161 - accuracy: 0.9956 - val_loss: 0.0757 - val_accuracy: 0.9793\n",
            "Epoch 9/20\n",
            "469/469 [==============================] - 5s 10ms/step - loss: 0.0122 - accuracy: 0.9966 - val_loss: 0.0782 - val_accuracy: 0.9797\n",
            "Epoch 10/20\n",
            "469/469 [==============================] - 5s 10ms/step - loss: 0.0095 - accuracy: 0.9975 - val_loss: 0.0793 - val_accuracy: 0.9805\n",
            "Epoch 11/20\n",
            "469/469 [==============================] - 5s 10ms/step - loss: 0.0064 - accuracy: 0.9982 - val_loss: 0.0763 - val_accuracy: 0.9807\n",
            "Epoch 12/20\n",
            "469/469 [==============================] - 5s 10ms/step - loss: 0.0053 - accuracy: 0.9986 - val_loss: 0.0752 - val_accuracy: 0.9826\n",
            "Epoch 13/20\n",
            "469/469 [==============================] - 5s 10ms/step - loss: 0.0041 - accuracy: 0.9989 - val_loss: 0.0798 - val_accuracy: 0.9816\n",
            "Epoch 14/20\n",
            "469/469 [==============================] - 5s 10ms/step - loss: 0.0035 - accuracy: 0.9990 - val_loss: 0.0850 - val_accuracy: 0.9817\n",
            "Epoch 15/20\n",
            "469/469 [==============================] - 5s 10ms/step - loss: 0.0028 - accuracy: 0.9993 - val_loss: 0.0809 - val_accuracy: 0.9815\n",
            "Epoch 16/20\n",
            "469/469 [==============================] - 5s 10ms/step - loss: 0.0021 - accuracy: 0.9994 - val_loss: 0.0874 - val_accuracy: 0.9822\n",
            "Epoch 17/20\n",
            "469/469 [==============================] - 5s 10ms/step - loss: 0.0018 - accuracy: 0.9995 - val_loss: 0.0920 - val_accuracy: 0.9819\n",
            "Epoch 18/20\n",
            "469/469 [==============================] - 5s 10ms/step - loss: 0.0011 - accuracy: 0.9998 - val_loss: 0.0912 - val_accuracy: 0.9826\n",
            "Epoch 19/20\n",
            "469/469 [==============================] - 5s 10ms/step - loss: 0.0012 - accuracy: 0.9997 - val_loss: 0.1040 - val_accuracy: 0.9818\n",
            "Epoch 20/20\n",
            "469/469 [==============================] - 5s 10ms/step - loss: 7.7194e-04 - accuracy: 0.9998 - val_loss: 0.1013 - val_accuracy: 0.9816\n"
          ],
          "name": "stdout"
        },
        {
          "output_type": "execute_result",
          "data": {
            "text/plain": [
              "<matplotlib.legend.Legend at 0x7fb6d94ab190>"
            ]
          },
          "metadata": {
            "tags": []
          },
          "execution_count": 12
        },
        {
          "output_type": "display_data",
          "data": {
            "image/png": "[encoded data removed]",
            "text/plain": [
              "<Figure size 432x288 with 1 Axes>"
            ]
          },
          "metadata": {
            "tags": [],
            "needs_background": "light"
          }
        }
      ]
    }
  ]
}